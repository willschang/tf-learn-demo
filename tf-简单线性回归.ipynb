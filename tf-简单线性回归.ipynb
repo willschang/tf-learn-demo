{
 "cells": [
  {
   "cell_type": "code",
   "execution_count": 1,
   "metadata": {},
   "outputs": [
    {
     "name": "stderr",
     "output_type": "stream",
     "text": [
      "/anaconda3/lib/python3.6/importlib/_bootstrap.py:219: RuntimeWarning: numpy.dtype size changed, may indicate binary incompatibility. Expected 96, got 88\n",
      "  return f(*args, **kwds)\n",
      "/anaconda3/lib/python3.6/site-packages/h5py/__init__.py:36: FutureWarning: Conversion of the second argument of issubdtype from `float` to `np.floating` is deprecated. In future, it will be treated as `np.float64 == np.dtype(float).type`.\n",
      "  from ._conv import register_converters as _register_converters\n",
      "/anaconda3/lib/python3.6/importlib/_bootstrap.py:219: RuntimeWarning: numpy.dtype size changed, may indicate binary incompatibility. Expected 96, got 88\n",
      "  return f(*args, **kwds)\n",
      "/anaconda3/lib/python3.6/importlib/_bootstrap.py:219: RuntimeWarning: numpy.dtype size changed, may indicate binary incompatibility. Expected 96, got 88\n",
      "  return f(*args, **kwds)\n"
     ]
    }
   ],
   "source": [
    "import tensorflow as tf\n",
    "import numpy as np\n",
    "import matplotlib.pyplot as plt"
   ]
  },
  {
   "cell_type": "code",
   "execution_count": 9,
   "metadata": {},
   "outputs": [
    {
     "name": "stdout",
     "output_type": "stream",
     "text": [
      "0 [0.05217507, 0.09951538]\n",
      "20 [0.10218555, 0.19885077]\n",
      "40 [0.10121743, 0.1993599]\n",
      "60 [0.10067813, 0.19964345]\n",
      "80 [0.10037773, 0.1998014]\n",
      "100 [0.10021039, 0.19988938]\n",
      "120 [0.10011719, 0.19993839]\n",
      "140 [0.10006529, 0.19996567]\n",
      "160 [0.10003636, 0.19998087]\n",
      "180 [0.10002026, 0.19998935]\n"
     ]
    },
    {
     "data": {
      "image/png": "[encoded data removed]",
      "text/plain": [
       "<Figure size 432x288 with 1 Axes>"
      ]
     },
     "metadata": {},
     "output_type": "display_data"
    }
   ],
   "source": [
    "# numpy 随机生成数据\n",
    "x_data = np.random.rand(200)\n",
    "y_data = x_data * 0.1 + 0.2\n",
    "\n",
    "# tf线性回归\n",
    "k = tf.Variable(0.)\n",
    "b = tf.Variable(0.)\n",
    "y = k * x_data + b\n",
    "\n",
    "# 损失函数\n",
    "loss = tf.reduce_mean(tf.square(y-y_data))\n",
    "\n",
    "# 梯度下降 优化器\n",
    "optimizer = tf.train.GradientDescentOptimizer(0.2)\n",
    "train_step = optimizer.minimize(loss)\n",
    "\n",
    "# 初始化变量\n",
    "init_op = tf.global_variables_initializer()\n",
    "\n",
    "with tf.Session() as sess:\n",
    "    sess.run(init_op)\n",
    "    for step in range(200):\n",
    "        sess.run(train_step)\n",
    "        if step%20 == 0:\n",
    "            print(step, sess.run([k, b]))\n",
    "            \n",
    "    y_prediction = sess.run(y)\n",
    "    plt.figure()\n",
    "    #plt.plot(x_data, y_data, 'r--', lw=3)\n",
    "    plt.scatter(x_data, y_data)\n",
    "    plt.plot(x_data, y_prediction, 'r-')\n"
   ]
  }
 ],
 "metadata": {
  "kernelspec": {
   "display_name": "Python 3",
   "language": "python",
   "name": "python3"
  },
  "language_info": {
   "codemirror_mode": {
    "name": "ipython",
    "version": 3
   },
   "file_extension": ".py",
   "mimetype": "text/x-python",
   "name": "python",
   "nbconvert_exporter": "python",
   "pygments_lexer": "ipython3",
   "version": "3.6.5"
  }
 },
 "nbformat": 4,
 "nbformat_minor": 2
}
