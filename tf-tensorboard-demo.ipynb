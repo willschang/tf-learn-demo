{
 "cells": [
  {
   "cell_type": "code",
   "execution_count": 1,
   "metadata": {},
   "outputs": [
    {
     "name": "stderr",
     "output_type": "stream",
     "text": [
      "/anaconda3/lib/python3.6/site-packages/h5py/__init__.py:36: FutureWarning: Conversion of the second argument of issubdtype from `float` to `np.floating` is deprecated. In future, it will be treated as `np.float64 == np.dtype(float).type`.\n",
      "  from ._conv import register_converters as _register_converters\n"
     ]
    },
    {
     "name": "stdout",
     "output_type": "stream",
     "text": [
      "Extracting ./train-images-idx3-ubyte.gz\n",
      "Extracting ./train-labels-idx1-ubyte.gz\n",
      "Extracting ./t10k-images-idx3-ubyte.gz\n",
      "Extracting ./t10k-labels-idx1-ubyte.gz\n",
      "Iter epoch 0, Testing accuracy is 0.8303999900817871\n"
     ]
    }
   ],
   "source": [
    "# loss  二次代价函数\n",
    "\n",
    "import tensorflow as tf\n",
    "from tensorflow.examples.tutorials.mnist import input_data\n",
    "\n",
    "# 载入数据集\n",
    "mnist = input_data.read_data_sets('./', one_hot=True)\n",
    "\n",
    "\n",
    "# 设置每个 batch_size\n",
    "batch_size = 100\n",
    "# 共需多少批次运算\n",
    "batch_nums = mnist.train.num_examples // batch_size\n",
    "\n",
    "# 参数概要\n",
    "def variable_summaries(var):\n",
    "    with tf.name_scope('summaries'):\n",
    "        mean = tf.reduce_mean(var)\n",
    "        tf.summary.scalar('mean', mean)\n",
    "        with tf.name_scope('stddev'):\n",
    "            stddev = tf.sqrt(tf.reduce_mean(tf.square(var - mean)))\n",
    "        tf.summary.scalar('stddev', stddev)\n",
    "        tf.summary.scalar('max', tf.reduce_max(var))\n",
    "        tf.summary.scalar('min', tf.reduce_min(var))\n",
    "        tf.summary.histogram('histogram', var)\n",
    "\n",
    "# 定义 placeholder\n",
    "with tf.name_scope('input'):\n",
    "    x = tf.placeholder(tf.float32, [None, 784], name='x-input')\n",
    "    y = tf.placeholder(tf.float32, [None, 10], name='y-input')\n",
    "\n",
    "with tf.name_scope('layer1'):\n",
    "    # 神经网络层\n",
    "    with tf.name_scope('weight1'):\n",
    "        w1 = tf.Variable(tf.zeros([784, 10]), name='w1')\n",
    "        variable_summaries(w1)\n",
    "    with tf.name_scope('biases1'):\n",
    "        b1 = tf.Variable(tf.zeros([10]), name='b1')\n",
    "        variable_summaries(b1)\n",
    "    # 更合理的 初始值设置\n",
    "    # w1 = tf.Variable(tf.truncated_normal([784, 2000], stddev=0.1))\n",
    "    # b1 = tf.Variable(tf.zeros([2000] + 0.1))\n",
    "    with tf.name_scope('softmax'):\n",
    "        prediction = tf.nn.softmax(tf.matmul(x, w1) + b1)\n",
    "\n",
    "with tf.name_scope('loss'):\n",
    "    # loss function\n",
    "    # ESM\n",
    "    loss = tf.reduce_mean(tf.square(y-prediction))\n",
    "    # CE 交叉熵\n",
    "    # loss = tf.reduce_mean(tf.nn.softmax_cross_entropy_with_logits(labels=y, logits=predictions))\n",
    "\n",
    "with tf.name_scope('train'):\n",
    "    # 梯度下降法\n",
    "    train_step = tf.train.GradientDescentOptimizer(0.2).minimize(loss)\n",
    "\n",
    "# 初始化变量\n",
    "init_op = tf.global_variables_initializer()\n",
    "\n",
    "with tf.name_scope('accuracy'):\n",
    "    with tf.name_scope('correct_predictions'):\n",
    "        # 预测结果 存储在一列表中\n",
    "        correct_predictions = tf.equal(tf.argmax(y, 1), tf.argmax(prediction, 1))\n",
    "    \n",
    "    with tf.name_scope('accuracy'):\n",
    "        # 计算 准确率\n",
    "        accuracy = tf.reduce_mean(tf.cast(correct_predictions, tf.float32))\n",
    "\n",
    "with tf.Session() as sess:\n",
    "    sess.run(init_op)\n",
    "    writer = tf.summary.FileWriter('logs/', sess.graph)\n",
    "    for epoch in range(1):\n",
    "        for batch in range(batch_nums):\n",
    "            batch_xs, batch_ys = mnist.train.next_batch(batch)\n",
    "            sess.run(train_step, feed_dict={x: batch_xs, y: batch_ys})\n",
    "            \n",
    "        acc = sess.run(accuracy, feed_dict={x: mnist.test.images, y: mnist.test.labels})\n",
    "        print('Iter epoch {0}, Testing accuracy is {1}'.format(epoch, acc))\n",
    "    "
   ]
  }
 ],
 "metadata": {
  "kernelspec": {
   "display_name": "Python 3",
   "language": "python",
   "name": "python3"
  },
  "language_info": {
   "codemirror_mode": {
    "name": "ipython",
    "version": 3
   },
   "file_extension": ".py",
   "mimetype": "text/x-python",
   "name": "python",
   "nbconvert_exporter": "python",
   "pygments_lexer": "ipython3",
   "version": "3.6.5"
  }
 },
 "nbformat": 4,
 "nbformat_minor": 2
}
